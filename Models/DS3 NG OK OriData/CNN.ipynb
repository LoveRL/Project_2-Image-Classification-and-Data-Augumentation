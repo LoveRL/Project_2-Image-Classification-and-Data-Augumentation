{
 "cells": [
  {
   "cell_type": "code",
   "execution_count": null,
   "metadata": {},
   "outputs": [],
   "source": [
    "import tensorflow as tf\n",
    "\n",
    "a=tf.constant('helle')\n",
    "with tf.Sess"
   ]
  },
  {
   "cell_type": "code",
   "execution_count": null,
   "metadata": {},
   "outputs": [],
   "source": [
    "import os\n",
    "from scipy import misc\n",
    "import numpy as np\n",
    "import tensorflow as tf\n",
    "import math\n",
    "import timeit"
   ]
  },
  {
   "cell_type": "code",
   "execution_count": null,
   "metadata": {},
   "outputs": [],
   "source": [
    "data=np.loadtxt('34552_sci_OK_data(without noise).csv', delimiter=',', dtype=np.float32)\n",
    "instances=data[:, 0:22500]\n",
    "is_OK = data[:, 22500]\n",
    "is_org = data[:,22501]\n",
    "class_num = data[:,22502]"
   ]
  },
  {
   "cell_type": "code",
   "execution_count": null,
   "metadata": {},
   "outputs": [],
   "source": [
    "aug_mask = np.where(is_org==0)\n",
    "orig_mask = np.where(is_org==1)\n",
    "orig_data = instances[orig_mask]\n",
    "aug_data = instances[aug_mask]\n",
    "\n",
    "print(orig_data.shape)\n",
    "print(aug_data.shape)"
   ]
  },
  {
   "cell_type": "code",
   "execution_count": null,
   "metadata": {
    "scrolled": true
   },
   "outputs": [],
   "source": [
    "orig_is_OK = is_OK[orig_mask]\n",
    "aug_is_OK = is_OK[aug_mask]\n",
    "orig_OK_mask = np.where(orig_is_OK==1)\n",
    "orig_NG_mask = np.where(orig_is_OK==0)\n",
    "aug_OK_mask = np.where(aug_is_OK==1)\n",
    "aug_NG_mask = np.where(aug_is_OK==0)\n",
    "orig_OK_data = orig_data[orig_OK_mask]\n",
    "orig_NG_data = orig_data[orig_NG_mask]\n",
    "aug_OK_data = aug_data[aug_OK_mask]\n",
    "aug_NG_data = aug_data[aug_NG_mask]\n",
    "\n",
    "print(orig_OK_data.shape)\n",
    "print(orig_NG_data.shape)\n",
    "print(aug_OK_data.shape)\n",
    "print(aug_NG_data.shape)"
   ]
  },
  {
   "cell_type": "code",
   "execution_count": null,
   "metadata": {
    "scrolled": true
   },
   "outputs": [],
   "source": [
    "orig_OK_data = orig_OK_data.reshape((-1,150,150,1))\n",
    "orig_NG_data = orig_NG_data.reshape((-1,150,150,1))\n",
    "aug_OK_data = aug_OK_data.reshape((-1,150,150,1))\n",
    "aug_NG_data = aug_NG_data.reshape((-1,150,150,1))\n",
    "\n",
    "print(orig_OK_data.shape)\n",
    "print(orig_NG_data.shape)\n",
    "print(aug_OK_data.shape)\n",
    "print(aug_NG_data.shape)"
   ]
  },
  {
   "cell_type": "code",
   "execution_count": null,
   "metadata": {},
   "outputs": [],
   "source": [
    "np.random.shuffle(orig_OK_data)\n",
    "np.random.shuffle(orig_NG_data)\n",
    "orig_OK_train = orig_OK_data[:13800]\n",
    "orig_OK_test = orig_OK_data[13800:]\n",
    "orig_NG_train = orig_NG_data[:2240]\n",
    "orig_NG_test = orig_NG_data[2240:]\n",
    "\n",
    "print(orig_OK_train.shape)\n",
    "print(orig_OK_test.shape)\n",
    "print(orig_NG_train.shape)\n",
    "print(orig_NG_test.shape)"
   ]
  },
  {
   "cell_type": "code",
   "execution_count": null,
   "metadata": {},
   "outputs": [],
   "source": [
    "orig_OK_train_label = np.ones(orig_OK_train.shape[0])\n",
    "orig_NG_train_label = np.zeros(orig_NG_train.shape[0])\n",
    "aug_NG_label = np.zeros(aug_NG_data.shape[0])\n",
    "orig_OK_test_label = np.ones(orig_OK_test.shape[0])\n",
    "orig_NG_test_label = np.zeros(orig_NG_test.shape[0])"
   ]
  },
  {
   "cell_type": "code",
   "execution_count": null,
   "metadata": {},
   "outputs": [],
   "source": [
    "train_data = np.concatenate((orig_OK_train, orig_NG_train, aug_NG_data))\n",
    "train_label = np.concatenate((orig_OK_train_label, orig_NG_train_label, aug_NG_label))\n",
    "print(train_data.shape)\n",
    "print(train_label.shape)"
   ]
  },
  {
   "cell_type": "code",
   "execution_count": null,
   "metadata": {},
   "outputs": [],
   "source": [
    "test_data = np.concatenate((orig_OK_test, orig_NG_test))\n",
    "test_label = np.concatenate((orig_OK_test_label, orig_NG_test_label))\n",
    "print(test_data.shape)\n",
    "print(test_label.shape)"
   ]
  },
  {
   "cell_type": "code",
   "execution_count": null,
   "metadata": {},
   "outputs": [],
   "source": [
    "s = np.arange(train_data.shape[0])\n",
    "np.random.shuffle(s)\n",
    "train_data = train_data[s]\n",
    "train_label = train_label[s]\n",
    "\n",
    "s = np.arange(test_data.shape[0])\n",
    "np.random.shuffle(s)\n",
    "test_data = test_data[s]\n",
    "test_label = test_label[s]"
   ]
  },
  {
   "cell_type": "code",
   "execution_count": null,
   "metadata": {},
   "outputs": [],
   "source": [
    "val_data = train_data[24400:]\n",
    "train_data = train_data[:24400]\n",
    "val_label = train_label[24400:]\n",
    "train_label = train_label[:24400]"
   ]
  },
  {
   "cell_type": "code",
   "execution_count": null,
   "metadata": {},
   "outputs": [],
   "source": [
    "mean_image = np.mean(np.concatenate((val_data,train_data,test_data)),axis=0)\n",
    "val_data -= mean_image\n",
    "train_data -= mean_image\n",
    "test_data -= mean_image\n",
    "orig_OK_test -= mean_image\n",
    "orig_NG_test -= mean_image"
   ]
  },
  {
   "cell_type": "code",
   "execution_count": null,
   "metadata": {},
   "outputs": [],
   "source": [
    "del(instances)\n",
    "del(is_OK)\n",
    "del(is_org)\n",
    "del(class_num)\n",
    "del(aug_mask)\n",
    "del(orig_mask)\n",
    "del(orig_data)\n",
    "del(aug_data)\n",
    "del(orig_is_OK)\n",
    "del(aug_is_OK)\n",
    "del(orig_OK_mask)"
   ]
  },
  {
   "cell_type": "code",
   "execution_count": null,
   "metadata": {},
   "outputs": [],
   "source": [
    "del(orig_NG_mask)\n",
    "del(aug_OK_mask)\n",
    "del(aug_NG_mask)\n",
    "del(orig_OK_data)\n",
    "del(orig_NG_data)\n",
    "del(aug_OK_data)\n",
    "del(aug_NG_data)\n",
    "del(orig_OK_train)\n",
    "#del(orig_OK_test)\n",
    "del(orig_NG_train)\n",
    "#del(orig_NG_test)\n",
    "del(orig_OK_train_label)\n",
    "del(orig_NG_train_label)\n",
    "del(aug_NG_label)\n",
    "#del(orig_OK_test_label)\n",
    "#del(orig_NG_test_label)"
   ]
  },
  {
   "cell_type": "code",
   "execution_count": null,
   "metadata": {},
   "outputs": [],
   "source": [
    "print(train_data.shape)\n",
    "print(val_data.shape)\n",
    "print(test_data.shape)\n",
    "print(orig_OK_test.shape)\n",
    "print(orig_NG_test.shape)"
   ]
  },
  {
   "cell_type": "code",
   "execution_count": null,
   "metadata": {},
   "outputs": [],
   "source": [
    "def run_model(session, predict, loss_val, Xd, yd,\n",
    "              epochs=1, batch_size=64, print_every=100,\n",
    "              training=None, plot_losses=False):\n",
    "    # have tensorflow compute accuracy\n",
    "    correct_prediction = tf.equal(tf.argmax(predict,1), y)\n",
    "    accuracy = tf.reduce_mean(tf.cast(correct_prediction, tf.float32))\n",
    "    \n",
    "    # shuffle indicies\n",
    "    train_indicies = np.arange(Xd.shape[0])\n",
    "    np.random.shuffle(train_indicies)\n",
    "\n",
    "    training_now = training is not None\n",
    "    \n",
    "    # setting up variables we want to compute (and optimizing)\n",
    "    # if we have a training function, add that to things we compute\n",
    "    variables = [mean_loss,correct_prediction,accuracy]\n",
    "    if training_now:\n",
    "        variables[-1] = training\n",
    "    \n",
    "    # counter \n",
    "    iter_cnt = 0\n",
    "    for e in range(epochs):\n",
    "        # keep track of losses and accuracy\n",
    "        correct = 0\n",
    "        losses = []\n",
    "        # make sure we iterate over the dataset once\n",
    "        for i in range(int(math.ceil(Xd.shape[0]/batch_size))):\n",
    "            # generate indicies for the batch\n",
    "            start_idx = (i*batch_size)%Xd.shape[0]\n",
    "            idx = train_indicies[start_idx:start_idx+batch_size]\n",
    "            \n",
    "            # create a feed dictionary for this batch\n",
    "            feed_dict = {X: Xd[idx,:],\n",
    "                         y: yd[idx],\n",
    "                         is_training: training_now }\n",
    "            # get batch size\n",
    "            actual_batch_size = yd[idx].shape[0]\n",
    "            # have tensorflow compute loss and correct predictions\n",
    "            # and (if given) perform a training step\n",
    "            loss, corr, _ = session.run(variables,feed_dict=feed_dict)\n",
    "            \n",
    "            # aggregate performance stats\n",
    "            losses.append(loss*actual_batch_size)\n",
    "            correct += np.sum(corr)\n",
    "            \n",
    "            # print every now and then\n",
    "            if training_now and (iter_cnt % print_every) == 0:\n",
    "                print(\"Iteration {0}: with minibatch training loss = {1:.3g} and accuracy of {2:.2g}\"\\\n",
    "                      .format(iter_cnt,loss,np.sum(corr)/actual_batch_size))\n",
    "            iter_cnt += 1\n",
    "        total_correct = correct/Xd.shape[0]\n",
    "        total_loss = np.sum(losses)/Xd.shape[0]\n",
    "        print(\"Epoch {2}, Overall loss = {0:.3g} and accuracy of {1:.3g}\"\\\n",
    "              .format(total_loss,total_correct,e+1))\n",
    "        if plot_losses:\n",
    "            plt.plot(losses)\n",
    "            plt.grid(True)\n",
    "            plt.title('Epoch {} Loss'.format(e+1))\n",
    "            plt.xlabel('minibatch number')\n",
    "            plt.ylabel('minibatch loss')\n",
    "            plt.show()\n",
    "    return total_loss,total_correct"
   ]
  },
  {
   "cell_type": "code",
   "execution_count": null,
   "metadata": {},
   "outputs": [],
   "source": [
    "# Feel free to play with this cell\n",
    "\n",
    "def my_model(X,y,is_training):\n",
    "    Wconv1 = tf.Variable(tf.random_normal([3, 3, 1, 16],stddev=0.01))\n",
    "    bconv1 = tf.Variable(tf.random_normal([16]))\n",
    "    out = tf.nn.conv2d(X, Wconv1, strides=[1,1,1,1], padding='VALID') + bconv1\n",
    "    out = tf.layers.batch_normalization(out, training=is_training)\n",
    "    out = tf.nn.relu(out)\n",
    "    out = tf.layers.max_pooling2d(inputs=out, pool_size=[2,2], padding=\"VALID\", strides=2)\n",
    "    #74\n",
    "    \n",
    "    Wconv2 = tf.Variable(tf.random_normal([3, 3, 16, 32],stddev=0.01))\n",
    "    bconv2 = tf.Variable(tf.random_normal([32]))\n",
    "    out = tf.nn.conv2d(out, Wconv2, strides=[1,1,1,1], padding='VALID') + bconv2\n",
    "    out = tf.layers.batch_normalization(out, training=is_training)\n",
    "    out = tf.nn.relu(out)  \n",
    "    out = tf.layers.max_pooling2d(inputs=out, pool_size=[2,2], padding=\"VALID\", strides=2)\n",
    "    #36\n",
    "    \n",
    "    Wconv3 = tf.Variable(tf.random_normal([3, 3, 32, 32],stddev=0.01))\n",
    "    bconv3 = tf.Variable(tf.random_normal([32]))\n",
    "    out = tf.nn.conv2d(out, Wconv3, strides=[1,1,1,1], padding='VALID') + bconv3\n",
    "    out = tf.layers.batch_normalization(out, training=is_training)\n",
    "    out = tf.nn.relu(out)  \n",
    "    out = tf.layers.max_pooling2d(inputs=out, pool_size=[2,2], padding=\"VALID\", strides=2)\n",
    "    #17\n",
    "    \n",
    "    flat_out = tf.reshape(out,shape=[-1,9248])\n",
    "    \n",
    "    W1 = tf.get_variable(\"W1\", shape=[9248,64],initializer=tf.contrib.layers.xavier_initializer())\n",
    "    b1 = tf.Variable(tf.random_normal([64]))\n",
    "    out2 = tf.matmul(flat_out, W1) + b1\n",
    "    out2 = tf.layers.batch_normalization(out2, training=is_training)\n",
    "    out2 = tf.nn.relu(out2)\n",
    "    #out2 = tf.layers.dropout(inputs=out2, rate=0.5, training=is_training)\n",
    "    \n",
    "    W2 = tf.get_variable(\"W2\", shape=[64,2],initializer=tf.contrib.layers.xavier_initializer())\n",
    "    b2 = tf.Variable(tf.random_normal([2]))\n",
    "    out3 = tf.matmul(out2, W2) + b2\n",
    "    \n",
    "    return out3\n",
    "    pass\n",
    "\n",
    "tf.reset_default_graph()\n",
    "\n",
    "X = tf.placeholder(tf.float32, [None, 150, 150, 1])\n",
    "y = tf.placeholder(tf.int64, [None])\n",
    "is_training = tf.placeholder(tf.bool)\n",
    "\n",
    "y_out = my_model(X,y,is_training)\n",
    "mean_loss = tf.reduce_mean(tf.nn.softmax_cross_entropy_with_logits(logits=y_out, labels=tf.one_hot(y,depth=2)))\n",
    "optimizer = tf.train.AdamOptimizer(learning_rate=5e-3)\n",
    "\n",
    "\n",
    "pass\n",
    "\n",
    "# batch normalization in tensorflow requires this extra dependency\n",
    "extra_update_ops = tf.get_collection(tf.GraphKeys.UPDATE_OPS)\n",
    "with tf.control_dependencies(extra_update_ops):\n",
    "    train_step = optimizer.minimize(mean_loss)"
   ]
  },
  {
   "cell_type": "code",
   "execution_count": null,
   "metadata": {
    "scrolled": true
   },
   "outputs": [],
   "source": [
    "sess = tf.Session()\n",
    "sess.run(tf.global_variables_initializer())\n",
    "\n",
    "for i in range(17):\n",
    "    print(i)\n",
    "    print('Training')\n",
    "    run_model(sess,y_out,mean_loss,train_data,train_label,2,32,100,train_step,False)\n",
    "    print('Validation')\n",
    "    run_model(sess,y_out,mean_loss,val_data,val_label,1,64)"
   ]
  },
  {
   "cell_type": "code",
   "execution_count": null,
   "metadata": {},
   "outputs": [],
   "source": [
    "print('Validation')\n",
    "run_model(sess,y_out,mean_loss,val_data,val_label,1,64)"
   ]
  },
  {
   "cell_type": "code",
   "execution_count": null,
   "metadata": {
    "scrolled": true
   },
   "outputs": [],
   "source": [
    "print('Test: OK+NG')\n",
    "run_model(sess,y_out,mean_loss,test_data,test_label,1,64)\n",
    "print('Test: OK')\n",
    "run_model(sess,y_out,mean_loss,orig_OK_test,orig_OK_test_label,1,64)\n",
    "print('Test: NG')\n",
    "run_model(sess,y_out,mean_loss,orig_NG_test,orig_NG_test_label,1,64)"
   ]
  },
  {
   "cell_type": "code",
   "execution_count": null,
   "metadata": {},
   "outputs": [],
   "source": []
  }
 ],
 "metadata": {
  "kernelspec": {
   "display_name": "Python 3",
   "language": "python",
   "name": "python3"
  },
  "language_info": {
   "codemirror_mode": {
    "name": "ipython",
    "version": 3
   },
   "file_extension": ".py",
   "mimetype": "text/x-python",
   "name": "python",
   "nbconvert_exporter": "python",
   "pygments_lexer": "ipython3",
   "version": "3.6.6"
  }
 },
 "nbformat": 4,
 "nbformat_minor": 2
}
