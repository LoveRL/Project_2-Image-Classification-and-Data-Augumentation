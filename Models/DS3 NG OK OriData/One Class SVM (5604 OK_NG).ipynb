{
 "cells": [
  {
   "cell_type": "code",
   "execution_count": 1,
   "metadata": {},
   "outputs": [],
   "source": [
    "import glob as g\n",
    "import numpy as np\n",
    "import random as r\n",
    "from sklearn import svm"
   ]
  },
  {
   "cell_type": "code",
   "execution_count": 2,
   "metadata": {},
   "outputs": [
    {
     "name": "stdout",
     "output_type": "stream",
     "text": [
      "(14474, 22503)\n",
      "[[ 21.  20.  21. ...   1.   1.   0.]\n",
      " [107. 109. 108. ...   1.   1.   6.]\n",
      " [  3.   3.   3. ...   1.   1.   7.]\n",
      " ...\n",
      " [  6.   5.   7. ...   1.   1.   7.]\n",
      " [  0.   0.   0. ...   1.   1.   1.]\n",
      " [104. 104. 102. ...   1.   1.   6.]]\n",
      "(5604, 22503)\n",
      "[[26. 23. 26. ...  0.  1.  0.]\n",
      " [18. 22. 25. ...  0.  1.  0.]\n",
      " [20. 26. 24. ...  0.  1.  0.]\n",
      " ...\n",
      " [ 0.  0.  0. ...  1.  1.  8.]\n",
      " [ 3.  1.  5. ...  1.  1.  8.]\n",
      " [ 0.  0.  0. ...  1.  1.  8.]]\n"
     ]
    }
   ],
   "source": [
    "file_path='C:\\\\Users\\\\SEO\\\\Desktop\\\\Makenaide\\\\Data and Models\\\\DS3_NG OK Oridata\\\\'\n",
    "\n",
    "train_data=np.loadtxt(file_path+'17276_OK_data.csv', delimiter=',', dtype=np.float32)\n",
    "train_data=np.array(r.sample(train_data.tolist(), 14474))\n",
    "test_data=np.loadtxt(file_path+'5604_Oridata_1.csv', delimiter=',', dtype=np.float32)\n",
    "\n",
    "print(train_data.shape)\n",
    "print(train_data)\n",
    "print(test_data.shape)\n",
    "print(test_data)\n",
    "\n",
    "np.random.shuffle(test_data)\n",
    "answers=test_data[:, 22500] ; test_data=test_data[:, 0:22500]\n",
    "train_data=train_data[:, 0:22500]"
   ]
  },
  {
   "cell_type": "code",
   "execution_count": 7,
   "metadata": {},
   "outputs": [],
   "source": [
    "obj_ocs=svm.OneClassSVM(gamma=0.001, kernel='rbf', nu=0.08)\n",
    "\n",
    "obj_ocs.fit(train_data)\n",
    "\n",
    "ocs_preds=obj_ocs.predict(test_data)"
   ]
  },
  {
   "cell_type": "code",
   "execution_count": 8,
   "metadata": {},
   "outputs": [
    {
     "name": "stdout",
     "output_type": "stream",
     "text": [
      "NG data Accuracy : 100.00\n",
      "OK data Accuracy : 76.09\n"
     ]
    }
   ],
   "source": [
    "num_NG=answers.tolist().count(0) ; num_OK=answers.tolist().count(1)\n",
    "num_correct_NG=0 ; num_correct_OK=0\n",
    " \n",
    "for o, a in zip(ocs_preds, answers) :\n",
    "    if o==-1 and a==0 :\n",
    "        num_correct_NG += 1\n",
    "    elif o==1 and a==1 :\n",
    "        num_correct_OK += 1\n",
    "\n",
    "print('NG data Accuracy : %.2f' % (num_correct_NG/num_NG*100))\n",
    "print('OK data Accuracy : %.2f' % (num_correct_OK/num_OK*100))"
   ]
  }
 ],
 "metadata": {
  "kernelspec": {
   "display_name": "Python 3",
   "language": "python",
   "name": "python3"
  },
  "language_info": {
   "codemirror_mode": {
    "name": "ipython",
    "version": 3
   },
   "file_extension": ".py",
   "mimetype": "text/x-python",
   "name": "python",
   "nbconvert_exporter": "python",
   "pygments_lexer": "ipython3",
   "version": "3.6.6"
  }
 },
 "nbformat": 4,
 "nbformat_minor": 2
}
