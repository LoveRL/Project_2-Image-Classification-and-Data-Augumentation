{
 "cells": [
  {
   "cell_type": "code",
   "execution_count": 1,
   "metadata": {},
   "outputs": [],
   "source": [
    "import numpy as np\n",
    "import cv5_Ori as c5\n",
    "from lightgbm import LGBMClassifier"
   ]
  },
  {
   "cell_type": "code",
   "execution_count": 2,
   "metadata": {},
   "outputs": [],
   "source": [
    "NG_data=np.loadtxt(\"C:\\\\Users\\\\SEO\\\\Desktop\\\\Makenaide\\\\Data and Models\\\\DS3_NG OK Oridata\\\\2802_OriNG_data.csv\",\\\n",
    "                  delimiter=',', dtype=np.float32)\n",
    "OK_data=np.loadtxt(\"C:\\\\Users\\\\SEO\\\\Desktop\\\\Makenaide\\\\Data and Models\\\\DS3_NG OK Oridata\\\\17276_OK_data.csv\",\\\n",
    "                  delimiter=',', dtype=np.float32)\n",
    "data=np.vstack([NG_data, OK_data])\n",
    "np.random.shuffle(data)"
   ]
  },
  {
   "cell_type": "code",
   "execution_count": 7,
   "metadata": {},
   "outputs": [
    {
     "name": "stdout",
     "output_type": "stream",
     "text": [
      "(20078, 22503)\n",
      "Accuracy of NG :    [55.03, 59.78, 53.53, 54.59, 54.31]\n",
      "Accuracy of OK :    [88.2, 87.95, 89.27, 88.21, 88.94]\n",
      "Accuracy of whole : [83.51, 84.11, 84.23, 83.29, 84.33]\n",
      "\n"
     ]
    }
   ],
   "source": [
    "print(data.shape)\n",
    "\n",
    "model=LGBMClassifier(boosting_type='dart', objective='binary', \\\n",
    "                     learning_rate=0.01, num_leaves=240, subsample_for_bin=5000, \\\n",
    "                     class_weight={0:0.64, 1:0.1})\n",
    "    \n",
    "obj=c5.fold_5_cv(data, model, 'LightGBM')\n",
    "obj.train_model()"
   ]
  },
  {
   "cell_type": "code",
   "execution_count": 8,
   "metadata": {},
   "outputs": [
    {
     "name": "stdout",
     "output_type": "stream",
     "text": [
      "Accuracy of NG :    [62.68, 64.26, 61.72, 65.74, 59.13]\n",
      "Accuracy of OK :    [84.02, 83.99, 84.52, 83.46, 83.42]\n",
      "Accuracy of whole : [81.05, 81.2, 81.42, 80.92, 80.07]\n",
      "\n"
     ]
    }
   ],
   "source": [
    "model=LGBMClassifier(boosting_type='dart', objective='binary', \\\n",
    "                     learning_rate=0.01, num_leaves=240, subsample_for_bin=5000, \\\n",
    "                     class_weight={0:0.8, 1:0.1})\n",
    "    \n",
    "obj=c5.fold_5_cv(data, model, 'LightGBM')\n",
    "obj.train_model()"
   ]
  },
  {
   "cell_type": "code",
   "execution_count": 9,
   "metadata": {},
   "outputs": [
    {
     "name": "stdout",
     "output_type": "stream",
     "text": [
      "Accuracy of NG :    [85.51, 83.95, 87.39, 86.8, 88.49]\n",
      "Accuracy of OK :    [61.26, 59.11, 58.25, 58.32, 59.81]\n",
      "Accuracy of whole : [64.68, 62.47, 62.22, 62.52, 63.79]\n",
      "\n"
     ]
    }
   ],
   "source": [
    "model=LGBMClassifier(boosting_type='dart', objective='binary', \\\n",
    "                     learning_rate=0.01, num_leaves=240, subsample_for_bin=5000, \\\n",
    "                     class_weight={0:2, 1:0.1})\n",
    "    \n",
    "obj=c5.fold_5_cv(data, model, 'LightGBM')\n",
    "obj.train_model()"
   ]
  }
 ],
 "metadata": {
  "kernelspec": {
   "display_name": "Python 3",
   "language": "python",
   "name": "python3"
  },
  "language_info": {
   "codemirror_mode": {
    "name": "ipython",
    "version": 3
   },
   "file_extension": ".py",
   "mimetype": "text/x-python",
   "name": "python",
   "nbconvert_exporter": "python",
   "pygments_lexer": "ipython3",
   "version": "3.6.7"
  }
 },
 "nbformat": 4,
 "nbformat_minor": 2
}
