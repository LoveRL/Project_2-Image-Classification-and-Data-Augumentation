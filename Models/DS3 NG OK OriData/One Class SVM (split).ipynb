{
 "cells": [
  {
   "cell_type": "code",
   "execution_count": null,
   "metadata": {},
   "outputs": [],
   "source": [
    "import os\n",
    "import glob as g\n",
    "import numpy as np\n",
    "import random as r\n",
    "from sklearn import svm"
   ]
  },
  {
   "cell_type": "code",
   "execution_count": null,
   "metadata": {},
   "outputs": [],
   "source": [
    "OK_idx_list=[i for i in range(17276)]\n",
    "OK_idx_test=r.sample(OK_idx_list, 2802)\n",
    "OK_idx_train=np.delete(OK_idx_list, OK_idx_test).tolist()\n",
    "\n",
    "file_path=''\n",
    "\n",
    "OK_data=np.loadtxt(file_path+'17276_OK_data.csv', delimiter=',', dtype=np.float32) \n",
    "NG_data=np.loadtxt(file_path+'2802_OriNG_data.csv', delimiter=',', dtype=np.float32)\n",
    "\n",
    "train_data=OK_data[OK_idx_train]\n",
    "test_data=np.vstack([NG_data, OK_data[OK_idx_test]])\n",
    "\n",
    "print(train_data.shape)\n",
    "print(test_data.shape)\n",
    "\n",
    "np.random.shuffle(test_data)\n",
    "answers=test_data[:, 22500] ; test_data=test_data[:, 0:22500]\n",
    "train_data=train_data[:, 0:22500]"
   ]
  },
  {
   "cell_type": "code",
   "execution_count": null,
   "metadata": {},
   "outputs": [],
   "source": [
    "obj_ocs=svm.OneClassSVM(gamma=0.001, kernel='rbf', nu=0.08)\n",
    "obj_if=IsolationForest(contamination=0.08, max_features=1.0, max_samples=1.0, n_estimators=40)\n",
    "\n",
    "obj_ocs.fit(train_data)\n",
    "obj_if.fit(train_data)\n",
    "\n",
    "ocs_preds=obj_ocs.predict(test_data)\n",
    "if_preds=obj_if.predict(test_data)"
   ]
  },
  {
   "cell_type": "code",
   "execution_count": null,
   "metadata": {},
   "outputs": [],
   "source": [
    "num_NG=answers.tolist().count(0) ; num_OK=answers.tolist().count(1)\n",
    "num_correct_NG=0 ; num_correct_OK=0\n",
    " \n",
    "for o, i, a in zip(ocs_preds, if_preds, answers) :\n",
    "    if o==-1 and a==0 :\n",
    "        num_correct_NG += 1\n",
    "    elif o==1 and a==1 :\n",
    "        num_correct_OK += 1\n",
    "\n",
    "print('NG data Accuracy : %.2f' % (num_correct_NG/num_NG*100))\n",
    "print('OK data Accuracy : %.2f' % (num_correct_OK/num_OK*100))"
   ]
  }
 ],
 "metadata": {
  "kernelspec": {
   "display_name": "Python 3",
   "language": "python",
   "name": "python3"
  },
  "language_info": {
   "codemirror_mode": {
    "name": "ipython",
    "version": 3
   },
   "file_extension": ".py",
   "mimetype": "text/x-python",
   "name": "python",
   "nbconvert_exporter": "python",
   "pygments_lexer": "ipython3",
   "version": "3.6.6"
  }
 },
 "nbformat": 4,
 "nbformat_minor": 2
}
