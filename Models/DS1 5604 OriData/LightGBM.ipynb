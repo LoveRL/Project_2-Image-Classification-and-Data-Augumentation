{
 "cells": [
  {
   "cell_type": "code",
   "execution_count": 2,
   "metadata": {},
   "outputs": [],
   "source": [
    "import numpy as np\n",
    "import glob as g\n",
    "import cv5_Ori as c5\n",
    "from lightgbm import LGBMClassifier"
   ]
  },
  {
   "cell_type": "code",
   "execution_count": 3,
   "metadata": {},
   "outputs": [
    {
     "name": "stdout",
     "output_type": "stream",
     "text": [
      "Accuracy of NG :    [87.5, 87.66, 87.34, 88.67, 83.03]\n",
      "Accuracy of OK :    [55.62, 58.7, 56.71, 56.94, 54.24]\n",
      "Accuracy of whole : [71.79, 72.95, 72.05, 72.95, 68.48]\n",
      "\n",
      "Accuracy of NG :    [87.63, 86.57, 84.92, 87.87, 89.09]\n",
      "Accuracy of OK :    [58.19, 57.76, 57.36, 57.02, 57.19]\n",
      "Accuracy of whole : [72.86, 72.32, 71.88, 71.79, 72.86]\n",
      "\n",
      "Accuracy of NG :    [91.8, 87.98, 87.61, 88.7, 89.09]\n",
      "Accuracy of OK :    [58.86, 54.29, 57.55, 58.9, 56.51]\n",
      "Accuracy of whole : [75.36, 70.8, 72.5, 74.2, 72.77]\n",
      "\n",
      "Accuracy of NG :    [87.22, 91.6, 87.22, 85.27, 88.81]\n",
      "Accuracy of OK :    [58.41, 57.71, 57.12, 57.71, 58.71]\n",
      "Accuracy of whole : [73.3, 73.93, 72.68, 71.07, 73.84]\n",
      "\n",
      "Accuracy of NG :    [87.0, 89.17, 88.72, 83.56, 89.49]\n",
      "Accuracy of OK :    [60.77, 57.63, 55.78, 53.92, 56.16]\n",
      "Accuracy of whole : [74.29, 73.48, 71.16, 69.38, 72.59]\n",
      "\n",
      "Accuracy of NG :    [87.26, 88.07, 90.44, 87.3, 87.3]\n",
      "Accuracy of OK :    [55.86, 54.61, 56.4, 54.9, 56.6]\n",
      "Accuracy of whole : [71.7, 70.89, 73.57, 71.07, 72.14]\n",
      "\n"
     ]
    }
   ],
   "source": [
    "data_list=g.glob('C:\\\\Users\\\\SEO\\\\Desktop\\\\Makenaide\\\\data\\\\구조1) 5604_OriData\\\\*')\n",
    "for i in range(6):\n",
    "    data=np.loadtxt(data_list[i], delimiter=',', dtype=np.float32)\n",
    "    model=LGBMClassifier(boosting_type='dart', objective='binary', \\\n",
    "                         learning_rate=0.01, num_leaves=240, subsample_for_bin=10000, \\\n",
    "                         class_weight={0:0.6, 1:0.4})\n",
    "    \n",
    "    obj=c5.fold_5_cv(data, model, 'LightGBM')\n",
    "    obj.train_model()"
   ]
  },
  {
   "cell_type": "code",
   "execution_count": 4,
   "metadata": {},
   "outputs": [
    {
     "name": "stdout",
     "output_type": "stream",
     "text": [
      "Accuracy of NG :    [83.48, 82.01, 81.31, 78.94, 83.19]\n",
      "Accuracy of OK :    [63.41, 64.72, 62.92, 66.49, 66.67]\n",
      "Accuracy of whole : [73.39, 73.3, 71.96, 72.77, 75.09]\n",
      "\n",
      "Accuracy of NG :    [82.93, 80.33, 82.22, 82.25, 77.92]\n",
      "Accuracy of OK :    [62.27, 61.3, 70.65, 67.33, 66.44]\n",
      "Accuracy of whole : [72.86, 70.62, 76.52, 74.91, 71.96]\n",
      "\n",
      "Accuracy of NG :    [83.42, 84.85, 83.06, 81.66, 79.63]\n",
      "Accuracy of OK :    [66.9, 62.76, 61.35, 66.18, 69.96]\n",
      "Accuracy of whole : [75.0, 73.57, 71.88, 74.02, 75.09]\n",
      "\n",
      "Accuracy of NG :    [82.14, 80.7, 80.69, 78.38, 76.7]\n",
      "Accuracy of OK :    [63.6, 63.64, 64.81, 68.54, 63.85]\n",
      "Accuracy of whole : [72.59, 72.32, 73.04, 73.21, 70.45]\n",
      "\n",
      "Accuracy of NG :    [80.0, 84.18, 78.33, 84.94, 81.51]\n",
      "Accuracy of OK :    [67.41, 65.53, 64.99, 65.03, 67.14]\n",
      "Accuracy of whole : [73.93, 74.38, 71.7, 75.18, 74.29]\n",
      "\n",
      "Accuracy of NG :    [81.49, 77.31, 81.6, 82.06, 79.75]\n",
      "Accuracy of OK :    [64.87, 62.89, 65.15, 62.48, 68.96]\n",
      "Accuracy of whole : [73.21, 70.27, 73.21, 72.32, 74.29]\n",
      "\n"
     ]
    }
   ],
   "source": [
    "for i in range(6):\n",
    "    data=np.loadtxt(data_list[i], delimiter=',', dtype=np.float32)\n",
    "    model=LGBMClassifier(boosting_type='dart', objective='binary', \\\n",
    "                         learning_rate=0.01, num_leaves=240, subsample_for_bin=10000, \\\n",
    "                         class_weight={0:0.55, 1:0.45})\n",
    "    \n",
    "    obj=c5.fold_5_cv(data, model, 'LightGBM')\n",
    "    obj.train_model()"
   ]
  }
 ],
 "metadata": {
  "kernelspec": {
   "display_name": "Python 3",
   "language": "python",
   "name": "python3"
  },
  "language_info": {
   "codemirror_mode": {
    "name": "ipython",
    "version": 3
   },
   "file_extension": ".py",
   "mimetype": "text/x-python",
   "name": "python",
   "nbconvert_exporter": "python",
   "pygments_lexer": "ipython3",
   "version": "3.6.7"
  }
 },
 "nbformat": 4,
 "nbformat_minor": 2
}
