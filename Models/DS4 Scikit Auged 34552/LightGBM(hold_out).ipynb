{
 "cells": [
  {
   "cell_type": "code",
   "execution_count": 1,
   "metadata": {},
   "outputs": [],
   "source": [
    "import numpy as np\n",
    "import hold_out as hd\n",
    "from lightgbm import LGBMClassifier\n",
    "\n",
    "file_path=\"C:\\\\Users\\\\SEO\\\\Desktop\\\\Makenaide\\\\Data and Models\\\\DS4_Scikit augued 34552\\\\\"\n",
    "data=np.loadtxt(file_path+'34552_sci_OK_data(without noise).csv', delimiter=',', dtype=np.float32)"
   ]
  },
  {
   "cell_type": "code",
   "execution_count": 1,
   "metadata": {},
   "outputs": [
    {
     "name": "stdout",
     "output_type": "stream",
     "text": [
      "Total num of Ori_NG : 829\n",
      "Total num of Aug_NG : 4374\n",
      "Total num of Ori_OK : 5163\n",
      "\n",
      "\n",
      "Ori_NG Accuracy Rate : 99.52%\n",
      "Scikit_NG Accuracy Rate : 99.95%\n",
      "OK Accuracy Rate : 22.87%\n",
      "Whole Accuracy Rate : 61.53%\n",
      "\n",
      "\n"
     ]
    }
   ],
   "source": [
    "model=LGBMClassifier(boosting_type='dart', objective='binary', \\\n",
    "                     learning_rate=0.01, num_leaves=400, \\\n",
    "                     subsample_for_bin=10000, class_weight={0:8, 1:0.4})\n",
    "\n",
    "obj=hd.hold_out(data, model, 'LightGBM')\n",
    "obj.train_model()"
   ]
  },
  {
   "cell_type": "code",
   "execution_count": null,
   "metadata": {},
   "outputs": [],
   "source": [
    "model=LGBMClassifier(boosting_type='dart', objective='binary', \\\n",
    "                     learning_rate=0.01, num_leaves=800, \\\n",
    "                     subsample_for_bin=10000, class_weight={0:8, 1:0.4})\n",
    "\n",
    "obj=hd.hold_out(data, model, 'LightGBM')\n",
    "obj.train_model()"
   ]
  }
 ],
 "metadata": {
  "kernelspec": {
   "display_name": "Python 3",
   "language": "python",
   "name": "python3"
  },
  "language_info": {
   "codemirror_mode": {
    "name": "ipython",
    "version": 3
   },
   "file_extension": ".py",
   "mimetype": "text/x-python",
   "name": "python",
   "nbconvert_exporter": "python",
   "pygments_lexer": "ipython3",
   "version": "3.6.6"
  }
 },
 "nbformat": 4,
 "nbformat_minor": 2
}
