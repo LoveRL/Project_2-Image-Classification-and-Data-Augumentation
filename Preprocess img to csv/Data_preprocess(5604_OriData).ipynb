{
 "cells": [
  {
   "cell_type": "code",
   "execution_count": null,
   "metadata": {},
   "outputs": [],
   "source": [
    "import copy as c\n",
    "import glob as g\n",
    "import numpy as np\n",
    "import random as r"
   ]
  },
  {
   "cell_type": "code",
   "execution_count": null,
   "metadata": {
    "scrolled": false
   },
   "outputs": [],
   "source": [
    "file_list=g.glob('C:\\\\Users\\\\SEO\\\\Desktop\\\\Makenaide\\\\class data csv\\\\*')\n",
    "file_idx=[j for j in range(0, 17, 2)]\n",
    "\n",
    "for i in range(3):\n",
    "    temp_vstack=np.empty(0).reshape(0, 150*150+3)\n",
    "    for th in file_idx:\n",
    "                \n",
    "        NG_data=np.loadtxt(file_list[th], delimiter=',', dtype=np.float32)\n",
    "        OK_data=np.loadtxt(file_list[th+1], delimiter=',', dtype=np.float32)\n",
    "        undersampled_OK_data=np.array(r.sample(OK_data.tolist(), len(NG_data)))\n",
    "        \n",
    "        print(NG_data.shape) ; print(OK_data.shape) ; print(undersampled_OK_data.shape)\n",
    "        \n",
    "        data=c.deepcopy(np.vstack([NG_data, undersampled_OK_data]))\n",
    "        temp_vstack=np.vstack([temp_vstack, data])\n",
    "        \n",
    "        print(temp_vstack.shape)\n",
    "        \n",
    "        del NG_data, OK_data\n",
    "    \n",
    "    np.savetxt('C:\\\\Users\\\\SEO\\\\Desktop\\\\Makenaide\\\\5604_Oridata_'+str(i+1)+'.csv', \\\n",
    "               temp_vstack, delimiter=',')\n",
    "    print(str(i+1)+' Done @')"
   ]
  }
 ],
 "metadata": {
  "kernelspec": {
   "display_name": "Python 3",
   "language": "python",
   "name": "python3"
  },
  "language_info": {
   "codemirror_mode": {
    "name": "ipython",
    "version": 3
   },
   "file_extension": ".py",
   "mimetype": "text/x-python",
   "name": "python",
   "nbconvert_exporter": "python",
   "pygments_lexer": "ipython3",
   "version": "3.6.7"
  }
 },
 "nbformat": 4,
 "nbformat_minor": 2
}
