{
 "cells": [
  {
   "cell_type": "code",
   "execution_count": null,
   "metadata": {},
   "outputs": [],
   "source": [
    "import cv2\n",
    "import glob as g\n",
    "import numpy as np\n",
    "import random as r"
   ]
  },
  {
   "cell_type": "code",
   "execution_count": null,
   "metadata": {},
   "outputs": [],
   "source": [
    "class data_preprocess :\n",
    "    \n",
    "    def __init__(self, file_path, flag_NG_OK, flag_GAN_Ori, flag_class):\n",
    "        \n",
    "        self.file_path=file_path\n",
    "        self.flag_NG_OK=flag_NG_OK\n",
    "        self.flag_GAN_Ori=flag_GAN_Ori\n",
    "        self.flag_class=flag_class\n",
    "        \n",
    "        self.img_set=g.glob(self.file_path+'\\\\*')\n",
    "        \n",
    "        return\n",
    "        \n",
    "    def trans_img_to_csv(self):\n",
    "\n",
    "        self.temp_vstack=np.empty(0).reshape(0, 150*150+3)\n",
    "            \n",
    "        for j in self.img_set:\n",
    "            \n",
    "            # cv2.IMREAD_UNCHANGED or cv2.IMREAD_GRAYSCALE \n",
    "            self.instance=np.concatenate((cv2.imread(j, cv2.IMREAD_UNCHANGED).flatten(), \\\n",
    "                                         np.zeros(1)+self.flag_NG_OK, \\\n",
    "                                         np.zeros(1)+self.flag_GAN_Ori, \\\n",
    "                                         np.zeros(1)+self.flag_class))\n",
    "                \n",
    "            self.temp_vstack=np.vstack([self.temp_vstack, self.instance])\n",
    "        print(self.file_path)\n",
    "        np.savetxt(self.file_path+'\\\\data.csv', self.temp_vstack, delimiter=',')\n",
    "            \n",
    "        del self.temp_vstack, self.instance\n",
    "        \n",
    "        return"
   ]
  },
  {
   "cell_type": "code",
   "execution_count": null,
   "metadata": {},
   "outputs": [],
   "source": [
    "if __name__==\"__main__\" :\n",
    "    \n",
    "    # 순서대로 column에 assign함.\n",
    "    # NG:0, OK:1\n",
    "    # Auged:0, Ori:1\n",
    "    # CP:0, dent:1, dot:2, ECP:3, press:4, print:5, projection:6, SC:7, stain:8\n",
    "    \n",
    "    folder_list=g.glob(\"C:\\\\Users\\\\SEO\\\\Desktop\\\\Makenaide\\\\img_dataset\\\\data_full\\\\*\")\n",
    "    \n",
    "    NG_OK_folder=['\\\\NG' if i%2==0 else '\\\\OK' for i in range(18)]\n",
    "    NG_OK_flag=[0 if i%2==0 else 1 for i in range(18)]\n",
    "    class_flag=[i//2 for i in range(18)]\n",
    "    folder_index=[i//2 for i in range(18)]\n",
    "    gan_ori_flag=[1 for _ in range(18)]\n",
    "    \n",
    "    for fi, NOf, NOflag, gof, cf  in zip(folder_index, NG_OK_folder, NG_OK_flag, gan_ori_flag, class_flag):\n",
    "        obj=data_preprocess(folder_list[fi]+NOf, NOflag, gof, cf)\n",
    "        obj.trans_img_to_csv()\n",
    "        del obj"
   ]
  }
 ],
 "metadata": {
  "kernelspec": {
   "display_name": "Python 3",
   "language": "python",
   "name": "python3"
  },
  "language_info": {
   "codemirror_mode": {
    "name": "ipython",
    "version": 3
   },
   "file_extension": ".py",
   "mimetype": "text/x-python",
   "name": "python",
   "nbconvert_exporter": "python",
   "pygments_lexer": "ipython3",
   "version": "3.6.6"
  }
 },
 "nbformat": 4,
 "nbformat_minor": 2
}
