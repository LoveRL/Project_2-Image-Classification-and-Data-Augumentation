{
 "cells": [
  {
   "cell_type": "code",
   "execution_count": 1,
   "metadata": {},
   "outputs": [],
   "source": [
    "import glob as g\n",
    "import numpy as np"
   ]
  },
  {
   "cell_type": "code",
   "execution_count": 2,
   "metadata": {},
   "outputs": [
    {
     "name": "stdout",
     "output_type": "stream",
     "text": [
      "(34552, 22503)\n"
     ]
    }
   ],
   "source": [
    "file_list=g.glob('C:\\\\Users\\\\SEO\\\\Desktop\\\\Makenaide\\\\data\\\\구조2) Class data csv\\\\*')\n",
    "temp_vstack=np.empty(0).reshape(0, 150*150+3)\n",
    "\n",
    "for i in file_list :\n",
    "    file=np.loadtxt(i, delimiter=',', dtype=np.float32)\n",
    "    temp_vstack=np.vstack([temp_vstack, file])\n",
    "\n",
    "print(temp_vstack.shape)\n",
    "np.savetxt('C:\\\\Users\\\\SEO\\\\Desktop\\\\Makenaide\\\\data\\\\구조2) Class data csv\\\\34552_sci_OK_data.csv', \\\n",
    "           temp_vstack, delimiter=',')"
   ]
  }
 ],
 "metadata": {
  "kernelspec": {
   "display_name": "Python 3",
   "language": "python",
   "name": "python3"
  },
  "language_info": {
   "codemirror_mode": {
    "name": "ipython",
    "version": 3
   },
   "file_extension": ".py",
   "mimetype": "text/x-python",
   "name": "python",
   "nbconvert_exporter": "python",
   "pygments_lexer": "ipython3",
   "version": "3.6.6"
  }
 },
 "nbformat": 4,
 "nbformat_minor": 2
}
