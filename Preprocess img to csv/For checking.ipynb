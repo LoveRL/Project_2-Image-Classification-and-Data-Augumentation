{
 "cells": [
  {
   "cell_type": "code",
   "execution_count": null,
   "metadata": {},
   "outputs": [],
   "source": [
    "import numpy as np\n",
    "import glob as g\n",
    "\n",
    "file_list=g.glob('C:\\\\Users\\\\SEO\\\\Desktop\\\\Makenaide\\\\data\\\\temp\\\\*')\n",
    "\n",
    "for i in file_list :\n",
    "    a=np.loadtxt(i, delimiter=',', dtype=np.float32)\n",
    "    print(a.shape)\n",
    "    print(a)"
   ]
  }
 ],
 "metadata": {
  "kernelspec": {
   "display_name": "Python 3",
   "language": "python",
   "name": "python3"
  },
  "language_info": {
   "codemirror_mode": {
    "name": "ipython",
    "version": 3
   },
   "file_extension": ".py",
   "mimetype": "text/x-python",
   "name": "python",
   "nbconvert_exporter": "python",
   "pygments_lexer": "ipython3",
   "version": "3.6.6"
  }
 },
 "nbformat": 4,
 "nbformat_minor": 2
}
